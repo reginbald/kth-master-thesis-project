{
 "cells": [
  {
   "cell_type": "code",
   "execution_count": 1,
   "metadata": {},
   "outputs": [],
   "source": [
    "from pyspark.sql import SparkSession\n",
    "from pyspark.sql import SQLContext\n",
    "from pyspark.sql.types import *\n",
    "from pyspark.sql import Row, DataFrame\n",
    "from pyspark.sql.functions import *\n",
    "\n",
    "from math import radians, cos, sin, asin, sqrt"
   ]
  },
  {
   "cell_type": "code",
   "execution_count": 2,
   "metadata": {},
   "outputs": [],
   "source": [
    "spark = SparkSession.builder \\\n",
    "    .master('local[*]') \\\n",
    "    .appName('Traffic Graph') \\\n",
    "    .getOrCreate()"
   ]
  },
  {
   "cell_type": "code",
   "execution_count": 3,
   "metadata": {},
   "outputs": [
    {
     "data": {
      "text/plain": [
       "'2.3.0'"
      ]
     },
     "execution_count": 3,
     "metadata": {},
     "output_type": "execute_result"
    }
   ],
   "source": [
    "spark.version"
   ]
  },
  {
   "cell_type": "code",
   "execution_count": 4,
   "metadata": {},
   "outputs": [],
   "source": [
    "node_schema = StructType() \\\n",
    "    .add('node', StringType(), False) \\\n",
    "    .add('McsDsRefer', StringType(), False) \\\n",
    "    .add('Y', DoubleType(), False) \\\n",
    "    .add('X', DoubleType(), False) \\\n",
    "    .add('Valid_From', TimestampType(), False) \\\n",
    "    .add('Valid_To', TimestampType(), False) \\\n",
    "    .add('McsDsRefer_road', StringType(), True) \\\n",
    "    .add('McsDsRefer_meter', IntegerType(), False) \n",
    "\n",
    "edge_schema = StructType() \\\n",
    "    .add('src', StringType(), False) \\\n",
    "    .add('dest', StringType(), False) \n",
    "\n",
    "avg_sensor_speed_schema = StructType() \\\n",
    "    .add('node', StringType(), False) \\\n",
    "    .add('Average_Speed', DoubleType(), False) \\"
   ]
  },
  {
   "cell_type": "code",
   "execution_count": 5,
   "metadata": {},
   "outputs": [],
   "source": [
    "nodes = spark.read.csv(\n",
    "    '../../data/nodes/*.csv', \n",
    "    sep=';', \n",
    "    schema=node_schema,\n",
    "    ignoreLeadingWhiteSpace=True,\n",
    "    ignoreTrailingWhiteSpace=True,\n",
    "    header=True,\n",
    ")"
   ]
  },
  {
   "cell_type": "code",
   "execution_count": 6,
   "metadata": {},
   "outputs": [
    {
     "name": "stdout",
     "output_type": "stream",
     "text": [
      "Number of nodes: 857\n",
      "+-----------+------------+----------------+----------------+-------------------+-------------------+---------------+----------------+\n",
      "|       node|  McsDsRefer|               Y|               X|         Valid_From|           Valid_To|McsDsRefer_road|McsDsRefer_meter|\n",
      "+-----------+------------+----------------+----------------+-------------------+-------------------+---------------+----------------+\n",
      "|E18_A-25940|E18_A 25,940|17.8788261183399|59.4008824050535|2016-05-09 00:00:00|9999-12-31 00:00:00|          E18_A|           25940|\n",
      "+-----------+------------+----------------+----------------+-------------------+-------------------+---------------+----------------+\n",
      "only showing top 1 row\n",
      "\n"
     ]
    }
   ],
   "source": [
    "print(\"Number of nodes:\", nodes.count())\n",
    "nodes.show(1)"
   ]
  },
  {
   "cell_type": "code",
   "execution_count": 7,
   "metadata": {},
   "outputs": [],
   "source": [
    "edges = spark.read.csv(\n",
    "    '../../data/edges/*.csv', \n",
    "    sep=';', \n",
    "    schema=edge_schema,\n",
    "    ignoreLeadingWhiteSpace=True,\n",
    "    ignoreTrailingWhiteSpace=True,\n",
    "    header=True,\n",
    ")"
   ]
  },
  {
   "cell_type": "code",
   "execution_count": 8,
   "metadata": {},
   "outputs": [
    {
     "name": "stdout",
     "output_type": "stream",
     "text": [
      "+----------+----------+\n",
      "|       src|      dest|\n",
      "+----------+----------+\n",
      "|E182N-0005|E182N-0190|\n",
      "+----------+----------+\n",
      "only showing top 1 row\n",
      "\n"
     ]
    }
   ],
   "source": [
    "edges.show(1)"
   ]
  },
  {
   "cell_type": "code",
   "execution_count": 9,
   "metadata": {},
   "outputs": [],
   "source": [
    "df_avg_sensor_speed = spark.read.csv(\n",
    "    '../../data/avg_sensor_speed.csv', \n",
    "    sep=';', \n",
    "    schema=avg_sensor_speed_schema,\n",
    "    ignoreLeadingWhiteSpace=True,\n",
    "    ignoreTrailingWhiteSpace=True,\n",
    "    header=True,\n",
    ")"
   ]
  },
  {
   "cell_type": "code",
   "execution_count": 10,
   "metadata": {},
   "outputs": [
    {
     "name": "stdout",
     "output_type": "stream",
     "text": [
      "+-----------+-------------+\n",
      "|       node|Average_Speed|\n",
      "+-----------+-------------+\n",
      "|E425N-58125|         53.5|\n",
      "+-----------+-------------+\n",
      "only showing top 1 row\n",
      "\n"
     ]
    }
   ],
   "source": [
    "df_avg_sensor_speed.show(1)"
   ]
  },
  {
   "cell_type": "markdown",
   "metadata": {},
   "source": [
    "## Check for missing values"
   ]
  },
  {
   "cell_type": "code",
   "execution_count": 11,
   "metadata": {},
   "outputs": [
    {
     "name": "stdout",
     "output_type": "stream",
     "text": [
      "857 826 Should be the same\n"
     ]
    }
   ],
   "source": [
    "print(nodes.count(), df_avg_sensor_speed.count(), \"Should be the same\")"
   ]
  },
  {
   "cell_type": "code",
   "execution_count": 12,
   "metadata": {},
   "outputs": [
    {
     "name": "stdout",
     "output_type": "stream",
     "text": [
      "+-----------+\n",
      "|       node|\n",
      "+-----------+\n",
      "| E222W-5165|\n",
      "|E226Z-22915|\n",
      "|E226Z-23325|\n",
      "|E265O-10950|\n",
      "|E265O-11210|\n",
      "|E265O-12330|\n",
      "| E265W-0200|\n",
      "| E265W-0570|\n",
      "| E265W-1160|\n",
      "|E265W-10950|\n",
      "|E265W-11215|\n",
      "|E265W-12270|\n",
      "| E265W-4875|\n",
      "| E4_C-61210|\n",
      "| E4_C-66510|\n",
      "|E426N-59530|\n",
      "|  E4N-47800|\n",
      "|  E4N-56165|\n",
      "|  E4N-67230|\n",
      "|  E4N-71440|\n",
      "|  E4Z-39500|\n",
      "|  E4Z-47635|\n",
      "|  E4Z-48385|\n",
      "|  E4Z-53595|\n",
      "|  E4Z-57055|\n",
      "|E73_G-52335|\n",
      "| E75_C-6800|\n",
      "| E75_E-2625|\n",
      "| E75_U-4070|\n",
      "| E75_U-4370|\n",
      "|  E75W-6680|\n",
      "| E4_M-58205|\n",
      "| E4_M-57730|\n",
      "+-----------+\n",
      "\n"
     ]
    }
   ],
   "source": [
    "nodes.alias('n').join(\n",
    "    df_avg_sensor_speed.alias('d'),\n",
    "    col('n.node') == col('d.node'), \"left_outer\"\n",
    ").where(col('d.node').isNull()).select('n.node').show(40)"
   ]
  },
  {
   "cell_type": "code",
   "execution_count": 13,
   "metadata": {},
   "outputs": [
    {
     "name": "stdout",
     "output_type": "stream",
     "text": [
      "+----------+\n",
      "|      node|\n",
      "+----------+\n",
      "|E18W-37625|\n",
      "|E4_A-31975|\n",
      "+----------+\n",
      "\n"
     ]
    }
   ],
   "source": [
    "# Ignore sensors not connected to the rest of the road network\n",
    "nodes.alias('n').join(\n",
    "    df_avg_sensor_speed.alias('d'),\n",
    "    col('n.node') == col('d.node'), \"right_outer\"\n",
    ").where(col('n.node').isNull()).select('d.node').show(40)"
   ]
  },
  {
   "cell_type": "markdown",
   "metadata": {},
   "source": [
    "## Fix missing average speed"
   ]
  },
  {
   "cell_type": "code",
   "execution_count": 14,
   "metadata": {},
   "outputs": [],
   "source": [
    "# Use speed from nearest sensor\n",
    "newRows = [\\\n",
    "    [\"E222W-5165\", 68.27130643868554],\n",
    "    [\"E226Z-22915\", 63.23934818358499],\n",
    "    [\"E226Z-23325\", 71.3023349436393],\n",
    "    [\"E265O-10950\", 66.4693446088795],\n",
    "    [\"E265O-11210\", 66.4693446088795],\n",
    "    [\"E265O-12330\", 69.81336966040674],\n",
    "    [\"E265W-0200\", 78.98594787940726],\n",
    "    [\"E265W-0570\", 79.73280352252591],\n",
    "    [\"E265W-1160\", 74.10397715252803],\n",
    "    [\"E265W-10950\", 75.04028344010872],\n",
    "    [\"E265W-11215\", 75.04028344010872],\n",
    "    [\"E265W-12270\", 73.28029494518289],\n",
    "    [\"E265W-4875\", 88.53025537132804],\n",
    "    [\"E4_C-61210\", 66.55019463991616],\n",
    "    [\"E4_C-66510\", 77.32215314136126],\n",
    "    [\"E426N-59530\", 49.940901635270144],\n",
    "    [\"E4N-47800\", 68.21320409782346],\n",
    "    [\"E4N-56165\", 44.60272686983498],\n",
    "    [\"E4N-67230\", 78.87379549991374],\n",
    "    [\"E4N-71440\", 74.30119065869488],\n",
    "    [\"E4Z-39500\", 72.76563630226165],\n",
    "    [\"E4Z-47635\", 75.63683736333309],\n",
    "    [\"E4Z-48385\", 79.1709561956707],\n",
    "    [\"E4Z-53595\", 62.29304391916363],\n",
    "    [\"E4Z-57055\", 48.35623931623932],\n",
    "    [\"E73_G-52335\", 51.7314933464761],\n",
    "    [\"E75_C-6800\", 61.999432697266634],\n",
    "    [\"E75_E-2625\", 71.3023349436393],\n",
    "    [\"E75_U-4070\", 45.566259021651966],\n",
    "    [\"E75_U-4370\", 55.20294761999602],\n",
    "    [\"E75W-6680\", 73.83707952255465],\n",
    "    [\"E4_M-58205\", 50.580917642541756],\n",
    "    [\"E4_M-57730\", 42.22751271494309]\n",
    "]\n",
    "\n",
    "newDF = spark.createDataFrame(newRows, avg_sensor_speed_schema)\n",
    "fixed_avg_sensor_speed = df_avg_sensor_speed.union(newDF)"
   ]
  },
  {
   "cell_type": "code",
   "execution_count": 15,
   "metadata": {},
   "outputs": [
    {
     "name": "stdout",
     "output_type": "stream",
     "text": [
      "857 should be: 857\n"
     ]
    }
   ],
   "source": [
    "nodes_with_speed = nodes.alias('n').join(\n",
    "    fixed_avg_sensor_speed.alias('d'),\n",
    "    col('n.node') == col('d.node'), \"left_outer\"\n",
    ").select(\n",
    "    col(\"n.node\").alias(\"node\"),\n",
    "    \"McsDsRefer\",\n",
    "    \"X\",\n",
    "    \"Y\",\n",
    "    \"Valid_From\",\n",
    "    \"Valid_To\",\n",
    "    \"McsDsRefer_road\",\n",
    "    \"McsDsRefer_meter\",\n",
    "    \"Average_Speed\"\n",
    ")\n",
    "\n",
    "print(nodes_with_speed.count(), \"should be:\", nodes.count())"
   ]
  },
  {
   "cell_type": "code",
   "execution_count": 16,
   "metadata": {},
   "outputs": [
    {
     "name": "stdout",
     "output_type": "stream",
     "text": [
      "+----+\n",
      "|node|\n",
      "+----+\n",
      "+----+\n",
      "\n"
     ]
    }
   ],
   "source": [
    "missing_speed = nodes_with_speed.where(isnull(\"node\")).select(\"node\").sort(\"node\")\n",
    "missing_speed.show()"
   ]
  },
  {
   "cell_type": "code",
   "execution_count": 17,
   "metadata": {},
   "outputs": [
    {
     "name": "stdout",
     "output_type": "stream",
     "text": [
      "+----------+-----------+----------------+----------------+-------------------+-------------------+---------------+----------------+-----------------+\n",
      "|      node| McsDsRefer|               X|               Y|         Valid_From|           Valid_To|McsDsRefer_road|McsDsRefer_meter|    Average_Speed|\n",
      "+----------+-----------+----------------+----------------+-------------------+-------------------+---------------+----------------+-----------------+\n",
      "|E18O-37735|E18O 37,735|59.3823553194917|18.0415869015134|2001-01-01 00:00:00|9999-12-31 00:00:00|           E18O|           37735|59.29376224689745|\n",
      "+----------+-----------+----------------+----------------+-------------------+-------------------+---------------+----------------+-----------------+\n",
      "only showing top 1 row\n",
      "\n"
     ]
    }
   ],
   "source": [
    "nodes_with_speed.show(1)"
   ]
  },
  {
   "cell_type": "markdown",
   "metadata": {},
   "source": [
    "## Calculate edge weight"
   ]
  },
  {
   "cell_type": "code",
   "execution_count": 18,
   "metadata": {},
   "outputs": [
    {
     "name": "stdout",
     "output_type": "stream",
     "text": [
      "+-----------+----------+-------------------+\n",
      "|        src|      dest|             weight|\n",
      "+-----------+----------+-------------------+\n",
      "| E18O-37610|E18O-37735|  0.126488853393553|\n",
      "|E182_V-3915|E18O-37735|0.08625730739048927|\n",
      "+-----------+----------+-------------------+\n",
      "only showing top 2 rows\n",
      "\n"
     ]
    }
   ],
   "source": [
    "# Uses the km references if sensors are on same road else the gps coordinates. \n",
    "# Based on: \"https://stackoverflow.com/questions/15736995/\"\n",
    "@udf(DoubleType())\n",
    "def extract_distance(start_name, end_name, start_lon, start_lat, end_lon, end_lat):\n",
    "    start_r, start_km = start_name.split('-')\n",
    "    end_r, end_km = end_name.split('-')\n",
    "    if start_r == end_r:\n",
    "        start_km_float = float(int(start_km) / 1000)\n",
    "        end_km_float = float(int(end_km) / 1000) \n",
    "        if (start_km_float > end_km_float):\n",
    "            return start_km_float - end_km_float\n",
    "        return end_km_float - start_km_float\n",
    "    \n",
    "    earth_radius = 6371 \n",
    "    # Degrees to radians \n",
    "    start_lon, start_lat, end_lon, end_lat = map(radians, [start_lon, start_lat, end_lon, end_lat])\n",
    "    # Haversine formula \n",
    "    dlon = end_lon - start_lon \n",
    "    dlat = end_lat - start_lat \n",
    "    a = sin(dlat/2)**2 + cos(start_lat) * cos(end_lat) * sin(dlon/2)**2\n",
    "    c = 2 * asin(sqrt(a)) \n",
    "    km = earth_radius * c\n",
    "    return km\n",
    "\n",
    "# Time it takes to travel from src sensor to dest sensor\n",
    "@udf(DoubleType())\n",
    "def calculate_time(distance, speed):\n",
    "    return (distance / speed) * 60\n",
    "\n",
    "edges_with_coords = edges.alias('a').join(\n",
    "    nodes.select(\"node\", \"X\", \"Y\")\n",
    "    .withColumnRenamed(\"X\", \"src_X\") \n",
    "    .withColumnRenamed(\"Y\", \"src_Y\") \n",
    "    .alias('b'),\n",
    "    col('a.src') == col('b.node'), \"left_outer\"\n",
    ").select(\"src\", \"dest\", \"src_X\", \"src_Y\").alias('c').join(\n",
    "    nodes.select(\"node\", \"X\", \"Y\")\n",
    "    .withColumnRenamed(\"X\", \"dest_X\") \n",
    "    .withColumnRenamed(\"Y\", \"dest_Y\") \n",
    "    .alias('d'),\n",
    "    col('c.dest') == col('d.node'), \"left_outer\"\n",
    ").select('src', 'dest', 'src_X', 'src_Y', 'dest_X', 'dest_Y')\n",
    "\n",
    "edges_with_distance = edges_with_coords.withColumn('distance', extract_distance('src', 'dest', 'src_X', 'src_Y', 'dest_X', 'dest_Y')) \\\n",
    ".select('src', 'dest', 'distance')\n",
    "\n",
    "edges_with_avg_speed = edges_with_distance.alias('a').join(\n",
    "    nodes_with_speed.alias('z'),\n",
    "    col('a.dest') == col('z.node')\n",
    ").select('src', 'dest', 'distance', 'Average_Speed')\n",
    "\n",
    "edges_with_weight = edges_with_avg_speed.withColumn('weight', calculate_time('distance', 'Average_Speed'))\\\n",
    "    .select('src', 'dest', 'weight')\n",
    "\n",
    "edges_with_weight.show(2)"
   ]
  },
  {
   "cell_type": "code",
   "execution_count": 19,
   "metadata": {},
   "outputs": [
    {
     "name": "stdout",
     "output_type": "stream",
     "text": [
      "+---+----+------+\n",
      "|src|dest|weight|\n",
      "+---+----+------+\n",
      "+---+----+------+\n",
      "\n"
     ]
    }
   ],
   "source": [
    "edges_with_weight.where(\"weight == 0\").show()"
   ]
  },
  {
   "cell_type": "code",
   "execution_count": 20,
   "metadata": {},
   "outputs": [
    {
     "name": "stdout",
     "output_type": "stream",
     "text": [
      "Total nodes: 857\n",
      "Total number of nodes with avg speed: 857\n",
      "--------------------------------------\n",
      "Total edges: 868\n",
      "Total edges with coords: 868\n",
      "Total edges with distance: 868\n",
      "Total edges with avg speed: 868\n",
      "Total Edges with weight: 868\n"
     ]
    }
   ],
   "source": [
    "print(\"Total nodes:\", nodes.count())\n",
    "print(\"Total number of nodes with avg speed:\", nodes_with_speed.count())\n",
    "print(\"--------------------------------------\")\n",
    "print(\"Total edges:\", edges.count())\n",
    "print(\"Total edges with coords:\", edges_with_coords.count())\n",
    "print(\"Total edges with distance:\", edges_with_distance.count())\n",
    "print(\"Total edges with avg speed:\", edges_with_avg_speed.count())\n",
    "print(\"Total Edges with weight:\", edges_with_weight.count())"
   ]
  },
  {
   "cell_type": "code",
   "execution_count": 21,
   "metadata": {},
   "outputs": [],
   "source": [
    "# Fixes memory limitations\n",
    "edges_with_weight.write.mode(\"overwrite\").parquet(\"../../data/edges_with_weight-parquet\")"
   ]
  },
  {
   "cell_type": "code",
   "execution_count": 22,
   "metadata": {},
   "outputs": [],
   "source": [
    "spark.read.parquet(\"../../data/edges_with_weight-parquet/*\").select(\"src\",\"dest\", \"weight\").coalesce(1).write \\\n",
    "    .option('sep', ';') \\\n",
    "    .format(\"com.databricks.spark.csv\") \\\n",
    "    .option(\"header\", \"true\") \\\n",
    "    .mode(\"overwrite\") \\\n",
    "    .save(\"../../data/edges_with_weight\")"
   ]
  },
  {
   "cell_type": "markdown",
   "metadata": {},
   "source": [
    "## Statistics"
   ]
  },
  {
   "cell_type": "code",
   "execution_count": 25,
   "metadata": {},
   "outputs": [
    {
     "name": "stdout",
     "output_type": "stream",
     "text": [
      "Total edges: 868\n",
      "Row(avg(weight)=0.22417527307519705)\n",
      "Row(max(weight)=1.612499999999999)\n",
      "Row(min(weight)=0.03370598365322795)\n",
      "Row(sum(weight)=194.58413702927103)\n"
     ]
    }
   ],
   "source": [
    "print(\"Total edges:\", edges_with_weight.count())\n",
    "print(edges_with_weight.agg({\"weight\": \"avg\"}).collect()[0])\n",
    "print(edges_with_weight.agg({\"weight\": \"max\"}).collect()[0])\n",
    "print(edges_with_weight.agg({\"weight\": \"min\"}).collect()[0])\n",
    "print(edges_with_weight.agg({\"weight\": \"sum\"}).collect()[0])"
   ]
  },
  {
   "cell_type": "code",
   "execution_count": null,
   "metadata": {},
   "outputs": [],
   "source": []
  }
 ],
 "metadata": {
  "kernelspec": {
   "display_name": "Python 3",
   "language": "python",
   "name": "python3"
  },
  "language_info": {
   "codemirror_mode": {
    "name": "ipython",
    "version": 3
   },
   "file_extension": ".py",
   "mimetype": "text/x-python",
   "name": "python",
   "nbconvert_exporter": "python",
   "pygments_lexer": "ipython3",
   "version": "3.6.3"
  }
 },
 "nbformat": 4,
 "nbformat_minor": 2
}
